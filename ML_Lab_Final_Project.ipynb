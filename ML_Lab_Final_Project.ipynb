{
  "nbformat": 4,
  "nbformat_minor": 0,
  "metadata": {
    "colab": {
      "provenance": [],
      "authorship_tag": "ABX9TyOuSJEqKm9z1JMF2bGkzkk+",
      "include_colab_link": true
    },
    "kernelspec": {
      "name": "python3",
      "display_name": "Python 3"
    },
    "language_info": {
      "name": "python"
    }
  },
  "cells": [
    {
      "cell_type": "markdown",
      "metadata": {
        "id": "view-in-github",
        "colab_type": "text"
      },
      "source": [
        "<a href=\"https://colab.research.google.com/github/Durgakesav/Book-Recommendation-System/blob/main/ML_Lab_Final_Project.ipynb\" target=\"_parent\"><img src=\"https://colab.research.google.com/assets/colab-badge.svg\" alt=\"Open In Colab\"/></a>"
      ]
    },
    {
      "cell_type": "code",
      "execution_count": 4,
      "metadata": {
        "colab": {
          "base_uri": "https://localhost:8080/"
        },
        "id": "hkDE1-ezbwgc",
        "outputId": "6a4183b3-e356-45f5-d97e-e06195768b50"
      },
      "outputs": [
        {
          "output_type": "stream",
          "name": "stdout",
          "text": [
            "***************BOOK RECOMMENDATION SYSTEM********************\n",
            "**************************************************************\n",
            "Enter your User ID: 15\n",
            "Enter book title you like: Human\n",
            "Enter number of recommendations: 5\n",
            "\n",
            "Books similar to 'Human' for user ID 15:\n",
            "\n",
            "1. Member stay serious\n",
            "2. At material mother quality\n",
            "3. Clear million entire feeling participant\n",
            "4. Next single\n",
            "5. There man management agency single\n"
          ]
        }
      ],
      "source": [
        "import pandas as pd\n",
        "import numpy as np\n",
        "from math import sqrt\n",
        "import warnings\n",
        "\n",
        "print(\"***************BOOK RECOMMENDATION SYSTEM********************\")\n",
        "print(\"**************************************************************\")\n",
        "\n",
        "warnings.filterwarnings(\"ignore\", category=FutureWarning)\n",
        "warnings.filterwarnings(\"ignore\", category=UserWarning)\n",
        "\n",
        "# Load data\n",
        "books = pd.read_excel('books_dataset.xlsx')\n",
        "ratings = pd.read_excel('ratings.xlsx')\n",
        "users = pd.read_excel('users.xlsx')\n",
        "\n",
        "# Merge ratings with books\n",
        "book_data = pd.merge(ratings, books, on='book_id', how='inner')\n",
        "\n",
        "# Merge with user data\n",
        "full_data = pd.merge(book_data, users, on='user_id', how='inner')\n",
        "\n",
        "# One-hot encode categories\n",
        "category_encoded = pd.get_dummies(full_data['category'], prefix='category')\n",
        "\n",
        "# Combine features\n",
        "feature_matrix = pd.concat([full_data[['user_id', 'book_id', 'rating']], category_encoded], axis=1)\n",
        "\n",
        "# Create user-book rating matrix\n",
        "user_book_matrix = feature_matrix.pivot_table(index='user_id', columns='book_id', values='rating').fillna(0)\n",
        "\n",
        "# Cache for faster distance calculation\n",
        "book_vectors = user_book_matrix.T.to_numpy()\n",
        "book_id_list = user_book_matrix.columns.to_list()\n",
        "\n",
        "def euclidean_distance(vec1, vec2):\n",
        "    return np.linalg.norm(vec1 - vec2)\n",
        "\n",
        "def recommend_books(user_id, book_title, n_recommendations=5):\n",
        "    if book_title not in books['title'].values:\n",
        "        return \"Book not found in the dataset.\"\n",
        "\n",
        "    if user_id not in users['user_id'].values:\n",
        "        return \"User ID not found.\"\n",
        "\n",
        "    book_id = books[books['title'] == book_title]['book_id'].values[0]\n",
        "\n",
        "    try:\n",
        "        book_idx = book_id_list.index(book_id)\n",
        "    except ValueError:\n",
        "        return \"Book ID not found in user-book matrix.\"\n",
        "\n",
        "    user_age = users.loc[users['user_id'] == user_id, 'age'].values[0]\n",
        "    input_vector = book_vectors[book_idx]\n",
        "\n",
        "    distances = []\n",
        "    for i, other_vector in enumerate(book_vectors):\n",
        "        if i == book_idx:\n",
        "            continue\n",
        "        dist = euclidean_distance(input_vector, other_vector)\n",
        "        distances.append((dist, book_id_list[i]))\n",
        "\n",
        "    # Sort by similarity (smallest distance)\n",
        "    distances.sort()\n",
        "    recommendations = []\n",
        "    for _, sim_book_id in distances:\n",
        "        sim_book_info = books[books['book_id'] == sim_book_id]\n",
        "        sim_title = sim_book_info['title'].values[0]\n",
        "        sim_age = sim_book_info['target_age_group'].values[0]\n",
        "\n",
        "        if user_age >= sim_age:\n",
        "            recommendations.append(sim_title)\n",
        "\n",
        "        if len(recommendations) >= n_recommendations:\n",
        "            break\n",
        "\n",
        "    return recommendations if recommendations else [\"No suitable recommendations found.\"]\n",
        "\n",
        "# --------------------------\n",
        "# User Input\n",
        "# --------------------------\n",
        "try:\n",
        "    user_id = int(input(\"Enter your User ID: \"))\n",
        "    book_title = input(\"Enter book title you like: \").strip()\n",
        "    n_recommendations = int(input(\"Enter number of recommendations: \"))\n",
        "\n",
        "    recommended_books = recommend_books(user_id, book_title, n_recommendations)\n",
        "    print(f\"\\nBooks similar to '{book_title}' for user ID {user_id}:\\n\")\n",
        "    for i, rec in enumerate(recommended_books, 1):\n",
        "        print(f\"{i}. {rec}\")\n",
        "\n",
        "except ValueError:\n",
        "    print(\"Invalid input. Please enter numeric values for User ID and recommendation count.\")\n"
      ]
    },
    {
      "cell_type": "code",
      "source": [],
      "metadata": {
        "id": "yHT8qp92c6-j"
      },
      "execution_count": null,
      "outputs": []
    },
    {
      "cell_type": "code",
      "source": [],
      "metadata": {
        "id": "PsmN5cL5c7P9"
      },
      "execution_count": null,
      "outputs": []
    }
  ]
}